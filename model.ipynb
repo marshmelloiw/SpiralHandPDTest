{
 "cells": [
  {
   "cell_type": "code",
   "execution_count": 76,
   "id": "95436c34",
   "metadata": {},
   "outputs": [],
   "source": [
    "import os\n",
    "import numpy as np\n",
    "import tensorflow as tf\n",
    "from tensorflow.keras.preprocessing.image import ImageDataGenerator\n",
    "from tensorflow.keras.applications import DenseNet121\n",
    "from tensorflow.keras.models import Model\n",
    "from tensorflow.keras.layers import GlobalAveragePooling2D, Dense\n",
    "from sklearn.utils import class_weight"
   ]
  },
  {
   "cell_type": "code",
   "execution_count": 77,
   "id": "2f5b75db",
   "metadata": {},
   "outputs": [],
   "source": [
    "DATA_DIR = r'C:\\Users\\melis\\SpiralHandPD_model\\Spiral_HandPD'\n",
    "IMG_SIZE = (224, 224)\n",
    "BATCH_SIZE = 32"
   ]
  },
  {
   "cell_type": "code",
   "execution_count": 78,
   "id": "35649449",
   "metadata": {},
   "outputs": [],
   "source": [
    "train_datagen = ImageDataGenerator(\n",
    "    rescale=1./255,\n",
    "    validation_split=0.2,\n",
    "    rotation_range=25,\n",
    "    zoom_range=0.2,\n",
    "    width_shift_range=0.2,\n",
    "    height_shift_range=0.2,\n",
    "    shear_range=0.1,\n",
    "    horizontal_flip=True,\n",
    "    fill_mode='nearest'\n",
    ")"
   ]
  },
  {
   "cell_type": "code",
   "execution_count": 79,
   "id": "c385b083",
   "metadata": {},
   "outputs": [],
   "source": [
    "val_datagen = ImageDataGenerator(\n",
    "    rescale=1./255,\n",
    "    validation_split=0.2\n",
    ")"
   ]
  },
  {
   "cell_type": "code",
   "execution_count": 80,
   "id": "516e6628",
   "metadata": {},
   "outputs": [
    {
     "name": "stdout",
     "output_type": "stream",
     "text": [
      "Found 295 images belonging to 2 classes.\n"
     ]
    }
   ],
   "source": [
    "train_gen = train_datagen.flow_from_directory(\n",
    "    DATA_DIR,\n",
    "    target_size=IMG_SIZE,\n",
    "    batch_size=BATCH_SIZE,\n",
    "    class_mode='categorical',\n",
    "    subset='training',\n",
    "    shuffle=True\n",
    ")"
   ]
  },
  {
   "cell_type": "code",
   "execution_count": 81,
   "id": "22b02359",
   "metadata": {},
   "outputs": [
    {
     "name": "stdout",
     "output_type": "stream",
     "text": [
      "Found 73 images belonging to 2 classes.\n"
     ]
    }
   ],
   "source": [
    "val_gen = val_datagen.flow_from_directory(\n",
    "    DATA_DIR,\n",
    "    target_size=IMG_SIZE,\n",
    "    batch_size=BATCH_SIZE,\n",
    "    class_mode='categorical',\n",
    "    subset='validation',\n",
    "    shuffle=False\n",
    ")"
   ]
  },
  {
   "cell_type": "code",
   "execution_count": 82,
   "id": "ee1badf7",
   "metadata": {},
   "outputs": [
    {
     "name": "stdout",
     "output_type": "stream",
     "text": [
      "Class weights: {0: np.float64(2.543103448275862), 1: np.float64(0.6223628691983122)}\n"
     ]
    }
   ],
   "source": [
    "class_weights = class_weight.compute_class_weight(\n",
    "    class_weight='balanced',\n",
    "    classes=np.unique(train_gen.classes),\n",
    "    y=train_gen.classes\n",
    ")\n",
    "class_weights = dict(enumerate(class_weights))\n",
    "print(\"Class weights:\", class_weights)"
   ]
  },
  {
   "cell_type": "code",
   "execution_count": 83,
   "id": "8bec88b5",
   "metadata": {},
   "outputs": [],
   "source": [
    "base_model = DenseNet121(weights='imagenet', include_top=False, input_shape=(224, 224, 3))\n",
    "base_model.trainable = False\n",
    "\n",
    "x = GlobalAveragePooling2D()(base_model.output)\n",
    "x = Dense(512, activation='relu')(x)\n",
    "output = Dense(2, activation='softmax')(x)\n",
    "\n",
    "model = Model(inputs=base_model.input, outputs=output)"
   ]
  },
  {
   "cell_type": "code",
   "execution_count": 84,
   "id": "40d7d760",
   "metadata": {},
   "outputs": [],
   "source": [
    "model.compile(optimizer='adam', loss='categorical_crossentropy', metrics=['accuracy'])"
   ]
  },
  {
   "cell_type": "code",
   "execution_count": 85,
   "id": "95a76749",
   "metadata": {},
   "outputs": [
    {
     "name": "stderr",
     "output_type": "stream",
     "text": [
      "c:\\Users\\melis\\AppData\\Local\\Programs\\Python\\Python312\\Lib\\site-packages\\keras\\src\\trainers\\data_adapters\\py_dataset_adapter.py:121: UserWarning: Your `PyDataset` class should call `super().__init__(**kwargs)` in its constructor. `**kwargs` can include `workers`, `use_multiprocessing`, `max_queue_size`. Do not pass these arguments to `fit()`, as they will be ignored.\n",
      "  self._warn_if_super_not_called()\n"
     ]
    },
    {
     "name": "stdout",
     "output_type": "stream",
     "text": [
      "Epoch 1/10\n",
      "\u001b[1m10/10\u001b[0m \u001b[32m━━━━━━━━━━━━━━━━━━━━\u001b[0m\u001b[37m\u001b[0m \u001b[1m16s\u001b[0m 1s/step - accuracy: 0.4950 - loss: 1.2850 - val_accuracy: 0.6575 - val_loss: 0.5345\n",
      "Epoch 2/10\n",
      "\u001b[1m10/10\u001b[0m \u001b[32m━━━━━━━━━━━━━━━━━━━━\u001b[0m\u001b[37m\u001b[0m \u001b[1m8s\u001b[0m 737ms/step - accuracy: 0.7178 - loss: 0.6383 - val_accuracy: 0.8904 - val_loss: 0.3492\n",
      "Epoch 3/10\n",
      "\u001b[1m10/10\u001b[0m \u001b[32m━━━━━━━━━━━━━━━━━━━━\u001b[0m\u001b[37m\u001b[0m \u001b[1m7s\u001b[0m 682ms/step - accuracy: 0.7658 - loss: 0.5337 - val_accuracy: 0.8767 - val_loss: 0.3533\n",
      "Epoch 4/10\n",
      "\u001b[1m10/10\u001b[0m \u001b[32m━━━━━━━━━━━━━━━━━━━━\u001b[0m\u001b[37m\u001b[0m \u001b[1m7s\u001b[0m 695ms/step - accuracy: 0.7388 - loss: 0.4831 - val_accuracy: 0.9178 - val_loss: 0.3037\n",
      "Epoch 5/10\n",
      "\u001b[1m10/10\u001b[0m \u001b[32m━━━━━━━━━━━━━━━━━━━━\u001b[0m\u001b[37m\u001b[0m \u001b[1m7s\u001b[0m 784ms/step - accuracy: 0.7095 - loss: 0.5665 - val_accuracy: 0.8767 - val_loss: 0.2434\n",
      "Epoch 6/10\n",
      "\u001b[1m10/10\u001b[0m \u001b[32m━━━━━━━━━━━━━━━━━━━━\u001b[0m\u001b[37m\u001b[0m \u001b[1m7s\u001b[0m 711ms/step - accuracy: 0.8117 - loss: 0.4186 - val_accuracy: 0.9726 - val_loss: 0.2450\n",
      "Epoch 7/10\n",
      "\u001b[1m10/10\u001b[0m \u001b[32m━━━━━━━━━━━━━━━━━━━━\u001b[0m\u001b[37m\u001b[0m \u001b[1m7s\u001b[0m 701ms/step - accuracy: 0.8126 - loss: 0.4518 - val_accuracy: 0.8630 - val_loss: 0.2355\n",
      "Epoch 8/10\n",
      "\u001b[1m10/10\u001b[0m \u001b[32m━━━━━━━━━━━━━━━━━━━━\u001b[0m\u001b[37m\u001b[0m \u001b[1m7s\u001b[0m 731ms/step - accuracy: 0.7744 - loss: 0.4260 - val_accuracy: 0.9315 - val_loss: 0.2277\n",
      "Epoch 9/10\n",
      "\u001b[1m10/10\u001b[0m \u001b[32m━━━━━━━━━━━━━━━━━━━━\u001b[0m\u001b[37m\u001b[0m \u001b[1m7s\u001b[0m 714ms/step - accuracy: 0.7133 - loss: 0.4623 - val_accuracy: 0.8767 - val_loss: 0.3335\n",
      "Epoch 10/10\n",
      "\u001b[1m10/10\u001b[0m \u001b[32m━━━━━━━━━━━━━━━━━━━━\u001b[0m\u001b[37m\u001b[0m \u001b[1m7s\u001b[0m 703ms/step - accuracy: 0.6647 - loss: 0.5220 - val_accuracy: 0.9726 - val_loss: 0.1764\n"
     ]
    },
    {
     "name": "stderr",
     "output_type": "stream",
     "text": [
      "WARNING:absl:You are saving your model as an HDF5 file via `model.save()` or `keras.saving.save_model(model)`. This file format is considered legacy. We recommend using instead the native Keras format, e.g. `model.save('my_model.keras')` or `keras.saving.save_model(model, 'my_model.keras')`. \n"
     ]
    }
   ],
   "source": [
    "history = model.fit(\n",
    "    train_gen,\n",
    "    validation_data=val_gen,\n",
    "    epochs=10,\n",
    "    class_weight=class_weights\n",
    ")\n",
    "\n",
    "model.save(\"DenseNet121.h5\")"
   ]
  },
  {
   "cell_type": "code",
   "execution_count": null,
   "id": "915347d8",
   "metadata": {},
   "outputs": [
    {
     "name": "stdout",
     "output_type": "stream",
     "text": [
      "\u001b[1m3/3\u001b[0m \u001b[32m━━━━━━━━━━━━━━━━━━━━\u001b[0m\u001b[37m\u001b[0m \u001b[1m5s\u001b[0m 1s/step  \n",
      "[[12  2]\n",
      " [ 0 59]]\n",
      "                precision    recall  f1-score   support\n",
      "\n",
      " SpiralControl       1.00      0.86      0.92        14\n",
      "SpiralPatients       0.97      1.00      0.98        59\n",
      "\n",
      "      accuracy                           0.97        73\n",
      "     macro avg       0.98      0.93      0.95        73\n",
      "  weighted avg       0.97      0.97      0.97        73\n",
      "\n"
     ]
    }
   ],
   "source": [
    "from sklearn.metrics import classification_report, confusion_matrix\n",
    "\n",
    "y_pred = model.predict(val_gen)\n",
    "y_pred_labels = np.argmax(y_pred, axis=1)\n",
    "y_true = val_gen.classes\n",
    "\n",
    "print(classification_report(y_true, y_pred_labels, target_names=val_gen.class_indices.keys()))"
   ]
  },
  {
   "cell_type": "code",
   "execution_count": 87,
   "id": "62043132",
   "metadata": {},
   "outputs": [],
   "source": [
    "from tensorflow.keras.preprocessing import image"
   ]
  },
  {
   "cell_type": "code",
   "execution_count": 88,
   "id": "19efdc31",
   "metadata": {},
   "outputs": [],
   "source": [
    "img_pathControl = r'C:\\Users\\melis\\SpiralHandPD_model\\exampleControl.png'\n",
    "img_pathPatient = r'C:\\Users\\melis\\SpiralHandPD_model\\examplePatient.png'\n",
    "imgControl = image.load_img(img_pathControl, target_size=(224, 224))\n",
    "imgPatient = image.load_img(img_pathPatient, target_size=(224, 224))"
   ]
  },
  {
   "cell_type": "code",
   "execution_count": 89,
   "id": "8ad8849b",
   "metadata": {},
   "outputs": [],
   "source": [
    "imgC_array = image.img_to_array(imgControl)\n",
    "imgC_array = np.expand_dims(imgC_array, axis=0)\n",
    "imgC_array = imgC_array / 255.0"
   ]
  },
  {
   "cell_type": "code",
   "execution_count": 90,
   "id": "188adebe",
   "metadata": {},
   "outputs": [],
   "source": [
    "imgP_array = image.img_to_array(imgPatient)\n",
    "imgP_array = np.expand_dims(imgP_array, axis=0)\n",
    "imgP_array = imgP_array / 255.0"
   ]
  },
  {
   "cell_type": "code",
   "execution_count": 91,
   "id": "28d338b5",
   "metadata": {},
   "outputs": [
    {
     "name": "stderr",
     "output_type": "stream",
     "text": [
      "WARNING:absl:Compiled the loaded model, but the compiled metrics have yet to be built. `model.compile_metrics` will be empty until you train or evaluate the model.\n"
     ]
    },
    {
     "name": "stdout",
     "output_type": "stream",
     "text": [
      "\u001b[1m1/1\u001b[0m \u001b[32m━━━━━━━━━━━━━━━━━━━━\u001b[0m\u001b[37m\u001b[0m \u001b[1m2s\u001b[0m 2s/step\n",
      "\u001b[1m1/1\u001b[0m \u001b[32m━━━━━━━━━━━━━━━━━━━━\u001b[0m\u001b[37m\u001b[0m \u001b[1m0s\u001b[0m 72ms/step\n"
     ]
    }
   ],
   "source": [
    "from tensorflow.keras.models import load_model\n",
    "\n",
    "best_model = load_model(r'C:\\Users\\melis\\SpiralHandPD_model\\DenseNet121.h5')\n",
    "pred1 = best_model.predict(imgC_array)\n",
    "pred2 = best_model.predict(imgP_array)"
   ]
  },
  {
   "cell_type": "code",
   "execution_count": 92,
   "id": "d81d53fd",
   "metadata": {},
   "outputs": [
    {
     "name": "stdout",
     "output_type": "stream",
     "text": [
      "1. için tahmin edilen sınıf: SpiralControl\n"
     ]
    }
   ],
   "source": [
    "predicted_class = np.argmax(pred1)\n",
    "class_labels = list(train_gen.class_indices.keys())\n",
    "print(f\"1. için tahmin edilen sınıf: {class_labels[predicted_class]}\")"
   ]
  },
  {
   "cell_type": "code",
   "execution_count": 93,
   "id": "7b7906ca",
   "metadata": {},
   "outputs": [
    {
     "name": "stdout",
     "output_type": "stream",
     "text": [
      "2. için tahmin edilen sınıf: SpiralPatients\n"
     ]
    }
   ],
   "source": [
    "predicted_class = np.argmax(pred2)\n",
    "class_labels = list(train_gen.class_indices.keys())\n",
    "print(f\"2. için tahmin edilen sınıf: {class_labels[predicted_class]}\")"
   ]
  }
 ],
 "metadata": {
  "kernelspec": {
   "display_name": "Python 3",
   "language": "python",
   "name": "python3"
  },
  "language_info": {
   "codemirror_mode": {
    "name": "ipython",
    "version": 3
   },
   "file_extension": ".py",
   "mimetype": "text/x-python",
   "name": "python",
   "nbconvert_exporter": "python",
   "pygments_lexer": "ipython3",
   "version": "3.12.3"
  }
 },
 "nbformat": 4,
 "nbformat_minor": 5
}
